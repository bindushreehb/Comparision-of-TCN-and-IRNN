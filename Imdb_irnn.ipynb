{
 "cells": [
  {
   "cell_type": "code",
   "execution_count": 1,
   "metadata": {},
   "outputs": [],
   "source": [
    "'''Trains a Minimal RNN on the IMDB sentiment classification task.\n",
    "The dataset is actually too small for Minimal RNN to be of any advantage\n",
    "compared to simpler, much faster methods such as TF-IDF + LogReg.\n",
    "'''\n",
    "from __future__ import print_function\n",
    "import os\n",
    "\n",
    "from keras.preprocessing import sequence\n",
    "from keras.models import Sequential\n",
    "from keras.layers import Dense, Embedding, BatchNormalization\n",
    "from keras.callbacks import ModelCheckpoint\n",
    "from keras.datasets import imdb\n",
    "from sklearn.model_selection import train_test_split\n",
    "from ind_rnn import IndRNN\n",
    "\n",
    "if not os.path.exists('weights'):\n",
    "    os.makedirs('weights/')\n",
    "\n",
    "max_features = 20000\n",
    "maxlen = 500  # cut texts after this number of words (among top max_features most common words)\n",
    "batch_size = 128\n",
    "top_words = 10000"
   ]
  },
  {
   "cell_type": "code",
   "execution_count": 2,
   "metadata": {},
   "outputs": [
    {
     "name": "stdout",
     "output_type": "stream",
     "text": [
      "Downloading data from https://s3.amazonaws.com/text-datasets/imdb.npz\n",
      "17465344/17464789 [==============================] - 1s 0us/step\n",
      "Pad sequences (samples x time)\n",
      "x_train shape: (25000, 500)\n",
      "x_test shape: (25000, 500)\n"
     ]
    }
   ],
   "source": [
    "import numpy as np\n",
    "#x_train = np.array(x_train).reshape(len(x_train), -1)\n",
    "np_load_old = np.load\n",
    "\n",
    "# modify the default parameters of np.load\n",
    "np.load = lambda *a,**k: np_load_old(*a, allow_pickle=True, **k)\n",
    "\n",
    "# call load_data with allow_pickle implicitly set to true\n",
    "#(train_data, train_labels), (test_data, test_labels) = imdb.load_data(num_words=10000)\n",
    "(x_train, y_train), (x_test, y_test) = imdb.load_data(num_words=top_words)\n",
    "\n",
    "# restore np.load for future normal usage\n",
    "np.load = np_load_old\n",
    "print('Pad sequences (samples x time)')\n",
    "x_train = sequence.pad_sequences(x_train, maxlen=maxlen)\n",
    "x_test = sequence.pad_sequences(x_test, maxlen=maxlen)\n",
    "print('x_train shape:', x_train.shape)\n",
    "print('x_test shape:', x_test.shape)\n"
   ]
  },
  {
   "cell_type": "code",
   "execution_count": 3,
   "metadata": {},
   "outputs": [
    {
     "name": "stderr",
     "output_type": "stream",
     "text": [
      "WARNING: Logging before flag parsing goes to stderr.\n",
      "W0120 21:51:08.359481 140097820661568 deprecation_wrapper.py:119] From /usr/local/lib/python3.6/dist-packages/keras/backend/tensorflow_backend.py:74: The name tf.get_default_graph is deprecated. Please use tf.compat.v1.get_default_graph instead.\n",
      "\n",
      "W0120 21:51:08.383552 140097820661568 deprecation_wrapper.py:119] From /usr/local/lib/python3.6/dist-packages/keras/backend/tensorflow_backend.py:517: The name tf.placeholder is deprecated. Please use tf.compat.v1.placeholder instead.\n",
      "\n",
      "W0120 21:51:08.385812 140097820661568 deprecation_wrapper.py:119] From /usr/local/lib/python3.6/dist-packages/keras/backend/tensorflow_backend.py:4138: The name tf.random_uniform is deprecated. Please use tf.random.uniform instead.\n",
      "\n"
     ]
    },
    {
     "name": "stdout",
     "output_type": "stream",
     "text": [
      "Build model...\n"
     ]
    }
   ],
   "source": [
    "print('Build model...')\n",
    "model = Sequential()\n",
    "model.add(Embedding(max_features, 128, input_shape=(maxlen,)))\n",
    "model.add(IndRNN(128, recurrent_clip_min=-1, recurrent_clip_max=-1, dropout=0.0, recurrent_dropout=0.0,\n",
    "                 return_sequences=True))\n",
    "model.add(IndRNN(128, recurrent_clip_min=-1, recurrent_clip_max=-1, dropout=0.0, recurrent_dropout=0.0,\n",
    "                 return_sequences=False))\n",
    "model.add(Dense(1, activation='sigmoid'))"
   ]
  },
  {
   "cell_type": "code",
   "execution_count": 4,
   "metadata": {},
   "outputs": [
    {
     "name": "stderr",
     "output_type": "stream",
     "text": [
      "W0120 21:51:18.201834 140097820661568 deprecation_wrapper.py:119] From /usr/local/lib/python3.6/dist-packages/keras/optimizers.py:790: The name tf.train.Optimizer is deprecated. Please use tf.compat.v1.train.Optimizer instead.\n",
      "\n",
      "W0120 21:51:18.228911 140097820661568 deprecation_wrapper.py:119] From /usr/local/lib/python3.6/dist-packages/keras/backend/tensorflow_backend.py:3376: The name tf.log is deprecated. Please use tf.math.log instead.\n",
      "\n",
      "W0120 21:51:18.234204 140097820661568 deprecation.py:323] From /usr/local/lib/python3.6/dist-packages/tensorflow/python/ops/nn_impl.py:180: add_dispatch_support.<locals>.wrapper (from tensorflow.python.ops.array_ops) is deprecated and will be removed in a future version.\n",
      "Instructions for updating:\n",
      "Use tf.where in 2.0, which has the same broadcast rule as np.where\n"
     ]
    }
   ],
   "source": [
    "# try using different optimizers and different optimizer configs\n",
    "model.compile(loss='binary_crossentropy',\n",
    "              optimizer='adam',\n",
    "              metrics=['accuracy'])\n"
   ]
  },
  {
   "cell_type": "code",
   "execution_count": 11,
   "metadata": {},
   "outputs": [
    {
     "ename": "NameError",
     "evalue": "name 'train_test_split' is not defined",
     "output_type": "error",
     "traceback": [
      "\u001b[0;31m---------------------------------------------------------------------------\u001b[0m",
      "\u001b[0;31mNameError\u001b[0m                                 Traceback (most recent call last)",
      "\u001b[0;32m<ipython-input-11-dea611e03200>\u001b[0m in \u001b[0;36m<module>\u001b[0;34m\u001b[0m\n\u001b[0;32m----> 1\u001b[0;31m \u001b[0mX_train\u001b[0m\u001b[0;34m,\u001b[0m \u001b[0mX_test\u001b[0m\u001b[0;34m,\u001b[0m \u001b[0my_train\u001b[0m\u001b[0;34m,\u001b[0m \u001b[0my_test\u001b[0m \u001b[0;34m=\u001b[0m \u001b[0mtrain_test_split\u001b[0m\u001b[0;34m(\u001b[0m\u001b[0mX\u001b[0m\u001b[0;34m,\u001b[0m \u001b[0my\u001b[0m\u001b[0;34m,\u001b[0m \u001b[0mtest_size\u001b[0m\u001b[0;34m=\u001b[0m\u001b[0;36m0.33\u001b[0m\u001b[0;34m,\u001b[0m \u001b[0mrandom_state\u001b[0m\u001b[0;34m=\u001b[0m\u001b[0;36m42\u001b[0m\u001b[0;34m)\u001b[0m\u001b[0;34m\u001b[0m\u001b[0;34m\u001b[0m\u001b[0m\n\u001b[0m",
      "\u001b[0;31mNameError\u001b[0m: name 'train_test_split' is not defined"
     ]
    }
   ],
   "source": [
    "#X_train, X_test, y_train, y_test = train_test_split(X, y, test_size=0.33, random_state=42)"
   ]
  },
  {
   "cell_type": "code",
   "execution_count": 5,
   "metadata": {},
   "outputs": [
    {
     "name": "stderr",
     "output_type": "stream",
     "text": [
      "W0120 21:51:35.190767 140097820661568 deprecation_wrapper.py:119] From /usr/local/lib/python3.6/dist-packages/keras/backend/tensorflow_backend.py:986: The name tf.assign_add is deprecated. Please use tf.compat.v1.assign_add instead.\n",
      "\n"
     ]
    },
    {
     "name": "stdout",
     "output_type": "stream",
     "text": [
      "Train on 25000 samples, validate on 25000 samples\n",
      "Epoch 1/50\n",
      "25000/25000 [==============================] - 141s 6ms/step - loss: 0.3831 - acc: 0.8188 - val_loss: 0.2858 - val_acc: 0.8804\n",
      "Epoch 2/50\n",
      "25000/25000 [==============================] - 138s 6ms/step - loss: 0.1795 - acc: 0.9329 - val_loss: 0.3095 - val_acc: 0.8734\n",
      "Epoch 3/50\n",
      "25000/25000 [==============================] - 138s 6ms/step - loss: 0.1110 - acc: 0.9602 - val_loss: 0.3847 - val_acc: 0.8671\n",
      "Epoch 4/50\n",
      "25000/25000 [==============================] - 138s 6ms/step - loss: 0.0677 - acc: 0.9768 - val_loss: 0.4549 - val_acc: 0.8692\n",
      "Epoch 5/50\n",
      "25000/25000 [==============================] - 138s 6ms/step - loss: 0.0384 - acc: 0.9878 - val_loss: 0.5961 - val_acc: 0.8631\n",
      "Epoch 6/50\n",
      "25000/25000 [==============================] - 138s 6ms/step - loss: 0.0260 - acc: 0.9914 - val_loss: 0.6678 - val_acc: 0.8620\n",
      "Epoch 7/50\n",
      "25000/25000 [==============================] - 138s 6ms/step - loss: 0.0133 - acc: 0.9961 - val_loss: 0.8113 - val_acc: 0.8620\n",
      "Epoch 8/50\n",
      "25000/25000 [==============================] - 138s 6ms/step - loss: 0.0193 - acc: 0.9938 - val_loss: 0.7640 - val_acc: 0.8568\n",
      "Epoch 9/50\n",
      "25000/25000 [==============================] - 139s 6ms/step - loss: 0.0204 - acc: 0.9936 - val_loss: 0.8235 - val_acc: 0.8608\n",
      "Epoch 10/50\n",
      "25000/25000 [==============================] - 139s 6ms/step - loss: 0.0101 - acc: 0.9964 - val_loss: 0.8449 - val_acc: 0.8606\n",
      "Epoch 11/50\n",
      "25000/25000 [==============================] - 138s 6ms/step - loss: 0.0086 - acc: 0.9973 - val_loss: 0.9676 - val_acc: 0.8561\n",
      "Epoch 12/50\n",
      "25000/25000 [==============================] - 139s 6ms/step - loss: 0.0105 - acc: 0.9963 - val_loss: 0.8777 - val_acc: 0.8585\n",
      "Epoch 13/50\n",
      "25000/25000 [==============================] - 139s 6ms/step - loss: 0.0186 - acc: 0.9936 - val_loss: 0.9450 - val_acc: 0.8489\n",
      "Epoch 14/50\n",
      "25000/25000 [==============================] - 139s 6ms/step - loss: 0.0130 - acc: 0.9958 - val_loss: 0.9872 - val_acc: 0.8541\n",
      "Epoch 15/50\n",
      "25000/25000 [==============================] - 139s 6ms/step - loss: 0.0125 - acc: 0.9964 - val_loss: 0.9977 - val_acc: 0.8523\n",
      "Epoch 16/50\n",
      "25000/25000 [==============================] - 139s 6ms/step - loss: 0.0080 - acc: 0.9979 - val_loss: 1.0593 - val_acc: 0.8463\n",
      "Epoch 17/50\n",
      "25000/25000 [==============================] - 139s 6ms/step - loss: 0.0057 - acc: 0.9982 - val_loss: 1.0134 - val_acc: 0.8564\n",
      "Epoch 18/50\n",
      "25000/25000 [==============================] - 138s 6ms/step - loss: 0.0031 - acc: 0.9989 - val_loss: 1.0952 - val_acc: 0.8574\n",
      "Epoch 19/50\n",
      "25000/25000 [==============================] - 139s 6ms/step - loss: 0.0012 - acc: 0.9997 - val_loss: 1.1347 - val_acc: 0.8581\n",
      "Epoch 20/50\n",
      "25000/25000 [==============================] - 139s 6ms/step - loss: 1.6405e-04 - acc: 1.0000 - val_loss: 1.1532 - val_acc: 0.8580\n",
      "Epoch 21/50\n",
      "25000/25000 [==============================] - 139s 6ms/step - loss: 5.1986e-05 - acc: 1.0000 - val_loss: 1.1750 - val_acc: 0.8584\n",
      "Epoch 22/50\n",
      "25000/25000 [==============================] - 139s 6ms/step - loss: 3.7393e-05 - acc: 1.0000 - val_loss: 1.1874 - val_acc: 0.8588\n",
      "Epoch 23/50\n",
      "25000/25000 [==============================] - 138s 6ms/step - loss: 2.9456e-05 - acc: 1.0000 - val_loss: 1.1993 - val_acc: 0.8590\n",
      "Epoch 24/50\n",
      "25000/25000 [==============================] - 139s 6ms/step - loss: 2.4161e-05 - acc: 1.0000 - val_loss: 1.2106 - val_acc: 0.8591\n",
      "Epoch 25/50\n",
      "25000/25000 [==============================] - 139s 6ms/step - loss: 2.0198e-05 - acc: 1.0000 - val_loss: 1.2219 - val_acc: 0.8592\n",
      "Epoch 26/50\n",
      "25000/25000 [==============================] - 139s 6ms/step - loss: 1.7203e-05 - acc: 1.0000 - val_loss: 1.2293 - val_acc: 0.8593\n",
      "Epoch 27/50\n",
      "25000/25000 [==============================] - 139s 6ms/step - loss: 1.4762e-05 - acc: 1.0000 - val_loss: 1.2377 - val_acc: 0.8594\n",
      "Epoch 28/50\n",
      "25000/25000 [==============================] - 139s 6ms/step - loss: 1.2790e-05 - acc: 1.0000 - val_loss: 1.2457 - val_acc: 0.8594\n",
      "Epoch 29/50\n",
      "25000/25000 [==============================] - 138s 6ms/step - loss: 1.1172e-05 - acc: 1.0000 - val_loss: 1.2522 - val_acc: 0.8594\n",
      "Epoch 30/50\n",
      "25000/25000 [==============================] - 139s 6ms/step - loss: 9.8140e-06 - acc: 1.0000 - val_loss: 1.2588 - val_acc: 0.8596\n",
      "Epoch 31/50\n",
      "25000/25000 [==============================] - 139s 6ms/step - loss: 8.6339e-06 - acc: 1.0000 - val_loss: 1.2670 - val_acc: 0.8597\n",
      "Epoch 32/50\n",
      "25000/25000 [==============================] - 139s 6ms/step - loss: 7.6324e-06 - acc: 1.0000 - val_loss: 1.2746 - val_acc: 0.8600\n",
      "Epoch 33/50\n",
      "25000/25000 [==============================] - 139s 6ms/step - loss: 6.7818e-06 - acc: 1.0000 - val_loss: 1.2787 - val_acc: 0.8600\n",
      "Epoch 34/50\n",
      "25000/25000 [==============================] - 139s 6ms/step - loss: 6.0189e-06 - acc: 1.0000 - val_loss: 1.2852 - val_acc: 0.8600\n",
      "Epoch 35/50\n",
      "25000/25000 [==============================] - 138s 6ms/step - loss: 5.3460e-06 - acc: 1.0000 - val_loss: 1.2916 - val_acc: 0.8601\n",
      "Epoch 36/50\n",
      "25000/25000 [==============================] - 139s 6ms/step - loss: 4.7590e-06 - acc: 1.0000 - val_loss: 1.2984 - val_acc: 0.8600\n",
      "Epoch 37/50\n",
      "25000/25000 [==============================] - 140s 6ms/step - loss: 4.2503e-06 - acc: 1.0000 - val_loss: 1.3049 - val_acc: 0.8600\n",
      "Epoch 38/50\n",
      "25000/25000 [==============================] - 139s 6ms/step - loss: 3.8027e-06 - acc: 1.0000 - val_loss: 1.3096 - val_acc: 0.8601\n",
      "Epoch 39/50\n",
      "25000/25000 [==============================] - 139s 6ms/step - loss: 3.4020e-06 - acc: 1.0000 - val_loss: 1.3155 - val_acc: 0.8600\n",
      "Epoch 40/50\n",
      "25000/25000 [==============================] - 139s 6ms/step - loss: 3.0498e-06 - acc: 1.0000 - val_loss: 1.3212 - val_acc: 0.8602\n",
      "Epoch 41/50\n",
      "25000/25000 [==============================] - 139s 6ms/step - loss: 2.7361e-06 - acc: 1.0000 - val_loss: 1.3260 - val_acc: 0.8602\n",
      "Epoch 42/50\n",
      "25000/25000 [==============================] - 139s 6ms/step - loss: 2.4585e-06 - acc: 1.0000 - val_loss: 1.3318 - val_acc: 0.8603\n",
      "Epoch 43/50\n",
      "25000/25000 [==============================] - 139s 6ms/step - loss: 2.2069e-06 - acc: 1.0000 - val_loss: 1.3379 - val_acc: 0.8602\n",
      "Epoch 44/50\n",
      "25000/25000 [==============================] - 138s 6ms/step - loss: 1.9862e-06 - acc: 1.0000 - val_loss: 1.3433 - val_acc: 0.8604\n",
      "Epoch 45/50\n",
      "25000/25000 [==============================] - 139s 6ms/step - loss: 1.7910e-06 - acc: 1.0000 - val_loss: 1.3477 - val_acc: 0.8603\n",
      "Epoch 46/50\n",
      "25000/25000 [==============================] - 139s 6ms/step - loss: 1.6129e-06 - acc: 1.0000 - val_loss: 1.3535 - val_acc: 0.8604\n",
      "Epoch 47/50\n",
      "25000/25000 [==============================] - 138s 6ms/step - loss: 1.4560e-06 - acc: 1.0000 - val_loss: 1.3583 - val_acc: 0.8604\n",
      "Epoch 48/50\n",
      "25000/25000 [==============================] - 139s 6ms/step - loss: 1.3161e-06 - acc: 1.0000 - val_loss: 1.3623 - val_acc: 0.8603\n",
      "Epoch 49/50\n",
      "25000/25000 [==============================] - 138s 6ms/step - loss: 1.1901e-06 - acc: 1.0000 - val_loss: 1.3678 - val_acc: 0.8603\n",
      "Epoch 50/50\n",
      "25000/25000 [==============================] - 139s 6ms/step - loss: 1.0766e-06 - acc: 1.0000 - val_loss: 1.3733 - val_acc: 0.8604\n"
     ]
    }
   ],
   "source": [
    "\"\"\"\n",
    "print('Train...')\n",
    "model.fit(x_train, y_train,\n",
    "          batch_size=batch_size,\n",
    "          epochs=15,\n",
    "          validation_data=(x_test, y_test),\n",
    "          callbacks=[ModelCheckpoint('weights/imdb_indrnn.h5', monitor='val_acc',\n",
    "                                     save_best_only=True, save_weights_only=True)]) \"\"\"\n",
    "\n",
    "\n",
    "hist = model.fit(x_train, y_train, validation_data=(x_test, y_test), epochs=50, batch_size=128)\n",
    "\n"
   ]
  },
  {
   "cell_type": "code",
   "execution_count": 8,
   "metadata": {},
   "outputs": [
    {
     "data": {
      "image/png": "[encoded data removed]",
      "text/plain": [
       "<matplotlib.figure.Figure at 0x7f6ad3634748>"
      ]
     },
     "metadata": {
      "needs_background": "light"
     },
     "output_type": "display_data"
    }
   ],
   "source": [
    "import matplotlib.pyplot as plt\n",
    "# Plot training & validation accuracy values\n",
    "plt.plot(hist.history['acc'])\n",
    "plt.plot(hist.history['val_acc'])\n",
    "plt.title('Model accuracy')\n",
    "plt.ylabel('Accuracy')\n",
    "plt.xlabel('Epoch')\n",
    "plt.legend(['Train', 'Test'], loc='upper left')\n",
    "plt.show()\n",
    "\n"
   ]
  },
  {
   "cell_type": "code",
   "execution_count": 9,
   "metadata": {},
   "outputs": [
    {
     "data": {
      "image/png": "[encoded data removed]",
      "text/plain": [
       "<matplotlib.figure.Figure at 0x7f6ad35ee128>"
      ]
     },
     "metadata": {
      "needs_background": "light"
     },
     "output_type": "display_data"
    }
   ],
   "source": [
    "# Plot training & validation loss values\n",
    "plt.plot(hist.history['loss'])\n",
    "plt.plot(hist.history['val_loss'])\n",
    "plt.title('Model loss')\n",
    "plt.ylabel('Loss')\n",
    "plt.xlabel('Epoch')\n",
    "plt.legend(['Train', 'Test'], loc='upper left')\n",
    "plt.show()\n"
   ]
  },
  {
   "cell_type": "code",
   "execution_count": 10,
   "metadata": {},
   "outputs": [
    {
     "name": "stdout",
     "output_type": "stream",
     "text": [
      "Accuracy: 86.04%\n"
     ]
    }
   ],
   "source": [
    "scores = model.evaluate(x_test, y_test, verbose=0)\n",
    "print(\"Accuracy: %.2f%%\" % (scores[1] * 100))"
   ]
  },
  {
   "cell_type": "code",
   "execution_count": null,
   "metadata": {},
   "outputs": [],
   "source": []
  }
 ],
 "metadata": {
  "kernelspec": {
   "display_name": "Python 3",
   "language": "python",
   "name": "python3"
  },
  "language_info": {
   "codemirror_mode": {
    "name": "ipython",
    "version": 3
   },
   "file_extension": ".py",
   "mimetype": "text/x-python",
   "name": "python",
   "nbconvert_exporter": "python",
   "pygments_lexer": "ipython3",
   "version": "3.6.8"
  }
 },
 "nbformat": 4,
 "nbformat_minor": 2
}
