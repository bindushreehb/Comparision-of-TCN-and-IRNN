{
 "cells": [
  {
   "cell_type": "code",
   "execution_count": 1,
   "metadata": {},
   "outputs": [],
   "source": [
    "from __future__ import print_function\n",
    "import os\n",
    "\n",
    "import keras\n",
    "from keras.datasets import mnist\n",
    "from keras.models import Sequential\n",
    "from keras.layers import Dense\n",
    "from keras.callbacks import ModelCheckpoint\n",
    "from keras.optimizers import Adam\n",
    "\n",
    "from ind_rnn import IndRNNCell, RNN\n",
    "\n",
    "batch_size = 100\n",
    "num_classes = 10\n",
    "epochs = 50\n",
    "hidden_units = 128\n",
    "\n",
    "learning_rate = 1e-3\n",
    "\n",
    "\n",
    "\n",
    "\n",
    "\n"
   ]
  },
  {
   "cell_type": "code",
   "execution_count": 2,
   "metadata": {},
   "outputs": [
    {
     "name": "stdout",
     "output_type": "stream",
     "text": [
      "x_train shape: (60000, 784, 1)\n",
      "60000 train samples\n",
      "10000 test samples\n"
     ]
    }
   ],
   "source": [
    "# the data, split between train and test sets\n",
    "(x_train, y_train), (x_test, y_test) = mnist.load_data()\n",
    "\n",
    "x_train = x_train.reshape(x_train.shape[0], -1, 1)\n",
    "x_test = x_test.reshape(x_test.shape[0], -1, 1)\n",
    "x_train = x_train.astype('float32')\n",
    "x_test = x_test.astype('float32')\n",
    "x_train /= 255\n",
    "x_test /= 255\n",
    "print('x_train shape:', x_train.shape)\n",
    "print(x_train.shape[0], 'train samples')\n",
    "print(x_test.shape[0], 'test samples')"
   ]
  },
  {
   "cell_type": "code",
   "execution_count": 3,
   "metadata": {},
   "outputs": [
    {
     "name": "stderr",
     "output_type": "stream",
     "text": [
      "WARNING: Logging before flag parsing goes to stderr.\n",
      "W0121 02:20:54.504440 140220370143040 deprecation_wrapper.py:119] From /usr/local/lib/python3.6/dist-packages/keras/backend/tensorflow_backend.py:74: The name tf.get_default_graph is deprecated. Please use tf.compat.v1.get_default_graph instead.\n",
      "\n",
      "W0121 02:20:54.521331 140220370143040 deprecation_wrapper.py:119] From /usr/local/lib/python3.6/dist-packages/keras/backend/tensorflow_backend.py:517: The name tf.placeholder is deprecated. Please use tf.compat.v1.placeholder instead.\n",
      "\n",
      "/home/jupyter/workspace/Project/Keras_Irnn/adding_Irnn/ind_rnn.py:143: UserWarning: IndRNNCell: Number of timesteps could not be determined. \n",
      "Defaulting to max clipping range of 1.0. \n",
      "If this model was trained using a specific timestep during training, inference may be wrong due to this default setting.\n",
      "Please ensure that you use the same number of timesteps during training and evaluation\n",
      "  warnings.warn(\"IndRNNCell: Number of timesteps could not be determined. \\n\"\n",
      "W0121 02:20:54.525719 140220370143040 deprecation_wrapper.py:119] From /usr/local/lib/python3.6/dist-packages/keras/backend/tensorflow_backend.py:4138: The name tf.random_uniform is deprecated. Please use tf.random.uniform instead.\n",
      "\n"
     ]
    },
    {
     "name": "stdout",
     "output_type": "stream",
     "text": [
      "Evaluate IRNN...\n",
      "_________________________________________________________________\n",
      "Layer (type)                 Output Shape              Param #   \n",
      "=================================================================\n",
      "rnn_1 (RNN)                  (None, 128)               17024     \n",
      "_________________________________________________________________\n",
      "dense_1 (Dense)              (None, 10)                1290      \n",
      "=================================================================\n",
      "Total params: 18,314\n",
      "Trainable params: 18,314\n",
      "Non-trainable params: 0\n",
      "_________________________________________________________________\n"
     ]
    }
   ],
   "source": [
    "# convert class vectors to binary class matrices\n",
    "y_train = keras.utils.to_categorical(y_train, num_classes)\n",
    "y_test = keras.utils.to_categorical(y_test, num_classes)\n",
    "\n",
    "cells = [IndRNNCell(hidden_units),\n",
    "         IndRNNCell(hidden_units)]\n",
    "\n",
    "print('Evaluate IRNN...')\n",
    "model = Sequential()\n",
    "model.add(RNN(cells,  input_shape=x_train.shape[1:]))\n",
    "model.add(Dense(num_classes, activation='softmax'))\n",
    "\n",
    "model.summary()"
   ]
  },
  {
   "cell_type": "code",
   "execution_count": 4,
   "metadata": {},
   "outputs": [
    {
     "name": "stderr",
     "output_type": "stream",
     "text": [
      "W0121 02:20:57.892310 140220370143040 deprecation_wrapper.py:119] From /usr/local/lib/python3.6/dist-packages/keras/optimizers.py:790: The name tf.train.Optimizer is deprecated. Please use tf.compat.v1.train.Optimizer instead.\n",
      "\n",
      "W0121 02:20:57.922804 140220370143040 deprecation_wrapper.py:119] From /usr/local/lib/python3.6/dist-packages/keras/backend/tensorflow_backend.py:3295: The name tf.log is deprecated. Please use tf.math.log instead.\n",
      "\n",
      "W0121 02:20:58.048659 140220370143040 deprecation.py:323] From /usr/local/lib/python3.6/dist-packages/tensorflow/python/ops/math_grad.py:1250: add_dispatch_support.<locals>.wrapper (from tensorflow.python.ops.array_ops) is deprecated and will be removed in a future version.\n",
      "Instructions for updating:\n",
      "Use tf.where in 2.0, which has the same broadcast rule as np.where\n",
      "W0121 02:20:58.286662 140220370143040 deprecation_wrapper.py:119] From /usr/local/lib/python3.6/dist-packages/keras/backend/tensorflow_backend.py:986: The name tf.assign_add is deprecated. Please use tf.compat.v1.assign_add instead.\n",
      "\n"
     ]
    },
    {
     "name": "stdout",
     "output_type": "stream",
     "text": [
      "Train on 60000 samples, validate on 10000 samples\n",
      "Epoch 1/50\n",
      "60000/60000 [==============================] - 368s 6ms/step - loss: 1.5843 - acc: 0.3995 - val_loss: 1.4051 - val_acc: 0.4345\n",
      "Epoch 2/50\n",
      "60000/60000 [==============================] - 367s 6ms/step - loss: 1.3100 - acc: 0.5095 - val_loss: 1.2663 - val_acc: 0.5329\n",
      "Epoch 3/50\n",
      "60000/60000 [==============================] - 366s 6ms/step - loss: 1.2403 - acc: 0.5387 - val_loss: 1.2105 - val_acc: 0.5617\n",
      "Epoch 4/50\n",
      "60000/60000 [==============================] - 366s 6ms/step - loss: 1.2062 - acc: 0.5580 - val_loss: 1.1967 - val_acc: 0.5635\n",
      "Epoch 5/50\n",
      "60000/60000 [==============================] - 366s 6ms/step - loss: 1.1933 - acc: 0.5635 - val_loss: 1.1957 - val_acc: 0.5587\n",
      "Epoch 6/50\n",
      "60000/60000 [==============================] - 366s 6ms/step - loss: 1.1743 - acc: 0.5707 - val_loss: 1.1350 - val_acc: 0.5900\n",
      "Epoch 7/50\n",
      "60000/60000 [==============================] - 366s 6ms/step - loss: 1.1756 - acc: 0.5723 - val_loss: 1.1841 - val_acc: 0.5702\n",
      "Epoch 8/50\n",
      "60000/60000 [==============================] - 367s 6ms/step - loss: 1.1680 - acc: 0.5746 - val_loss: 1.1566 - val_acc: 0.5826\n",
      "Epoch 9/50\n",
      "60000/60000 [==============================] - 364s 6ms/step - loss: 1.1572 - acc: 0.5785 - val_loss: 1.1108 - val_acc: 0.6054\n",
      "Epoch 10/50\n",
      "60000/60000 [==============================] - 366s 6ms/step - loss: 1.1566 - acc: 0.5779 - val_loss: 1.1367 - val_acc: 0.5991\n",
      "Epoch 11/50\n",
      "60000/60000 [==============================] - 367s 6ms/step - loss: 1.1476 - acc: 0.5820 - val_loss: 1.1084 - val_acc: 0.6127\n",
      "Epoch 12/50\n",
      "60000/60000 [==============================] - 366s 6ms/step - loss: 1.1433 - acc: 0.5837 - val_loss: 1.0995 - val_acc: 0.6121\n",
      "Epoch 13/50\n",
      "60000/60000 [==============================] - 367s 6ms/step - loss: 1.1452 - acc: 0.5840 - val_loss: 1.1468 - val_acc: 0.5799\n",
      "Epoch 14/50\n",
      "60000/60000 [==============================] - 365s 6ms/step - loss: 1.1263 - acc: 0.5919 - val_loss: 1.1030 - val_acc: 0.6064\n",
      "Epoch 15/50\n",
      "60000/60000 [==============================] - 367s 6ms/step - loss: 1.1017 - acc: 0.6043 - val_loss: 1.0465 - val_acc: 0.6392\n",
      "Epoch 16/50\n",
      "60000/60000 [==============================] - 366s 6ms/step - loss: 1.0654 - acc: 0.6143 - val_loss: 1.0654 - val_acc: 0.6164\n",
      "Epoch 17/50\n",
      "60000/60000 [==============================] - 364s 6ms/step - loss: 1.0420 - acc: 0.6274 - val_loss: 1.1089 - val_acc: 0.5951\n",
      "Epoch 18/50\n",
      "60000/60000 [==============================] - 364s 6ms/step - loss: 1.0233 - acc: 0.6352 - val_loss: 0.9736 - val_acc: 0.6614\n",
      "Epoch 19/50\n",
      "60000/60000 [==============================] - 366s 6ms/step - loss: 1.0240 - acc: 0.6321 - val_loss: 0.9751 - val_acc: 0.6562\n",
      "Epoch 20/50\n",
      "60000/60000 [==============================] - 366s 6ms/step - loss: 1.0083 - acc: 0.6397 - val_loss: 0.9559 - val_acc: 0.6627\n",
      "Epoch 21/50\n",
      "60000/60000 [==============================] - 365s 6ms/step - loss: 1.0085 - acc: 0.6411 - val_loss: 0.9757 - val_acc: 0.6661\n",
      "Epoch 22/50\n",
      "60000/60000 [==============================] - 365s 6ms/step - loss: 1.0049 - acc: 0.6416 - val_loss: 0.9703 - val_acc: 0.6525\n",
      "Epoch 23/50\n",
      "60000/60000 [==============================] - 367s 6ms/step - loss: 0.9832 - acc: 0.6495 - val_loss: 0.9471 - val_acc: 0.6663\n",
      "Epoch 24/50\n",
      "60000/60000 [==============================] - 366s 6ms/step - loss: 0.9792 - acc: 0.6524 - val_loss: 0.9090 - val_acc: 0.6875\n",
      "Epoch 25/50\n",
      "60000/60000 [==============================] - 366s 6ms/step - loss: 0.9576 - acc: 0.6591 - val_loss: 0.8907 - val_acc: 0.6895\n",
      "Epoch 26/50\n",
      "60000/60000 [==============================] - 365s 6ms/step - loss: 0.9447 - acc: 0.6658 - val_loss: 0.8728 - val_acc: 0.6952\n",
      "Epoch 27/50\n",
      "60000/60000 [==============================] - 365s 6ms/step - loss: 0.9151 - acc: 0.6777 - val_loss: 1.2461 - val_acc: 0.5725\n",
      "Epoch 28/50\n",
      "60000/60000 [==============================] - 366s 6ms/step - loss: 0.8911 - acc: 0.6895 - val_loss: 0.8265 - val_acc: 0.7159\n",
      "Epoch 29/50\n",
      "60000/60000 [==============================] - 365s 6ms/step - loss: 0.8585 - acc: 0.6979 - val_loss: 0.8666 - val_acc: 0.6925\n",
      "Epoch 30/50\n",
      "60000/60000 [==============================] - 365s 6ms/step - loss: 0.8385 - acc: 0.7063 - val_loss: 0.8149 - val_acc: 0.7130\n",
      "Epoch 31/50\n",
      "60000/60000 [==============================] - 364s 6ms/step - loss: 0.8210 - acc: 0.7113 - val_loss: 0.8357 - val_acc: 0.7046\n",
      "Epoch 32/50\n",
      "60000/60000 [==============================] - 366s 6ms/step - loss: 0.8062 - acc: 0.7155 - val_loss: 0.8053 - val_acc: 0.7075\n",
      "Epoch 33/50\n",
      "60000/60000 [==============================] - 367s 6ms/step - loss: 0.7791 - acc: 0.7276 - val_loss: 0.7119 - val_acc: 0.7473\n",
      "Epoch 34/50\n",
      "60000/60000 [==============================] - 364s 6ms/step - loss: 0.7706 - acc: 0.7274 - val_loss: 0.7702 - val_acc: 0.7151\n",
      "Epoch 35/50\n",
      "60000/60000 [==============================] - 366s 6ms/step - loss: 0.7507 - acc: 0.7365 - val_loss: 0.6920 - val_acc: 0.7589\n",
      "Epoch 36/50\n",
      "60000/60000 [==============================] - 364s 6ms/step - loss: 0.7533 - acc: 0.7345 - val_loss: 0.7123 - val_acc: 0.7432\n",
      "Epoch 37/50\n",
      "60000/60000 [==============================] - 367s 6ms/step - loss: 0.7497 - acc: 0.7367 - val_loss: 0.6948 - val_acc: 0.7574\n",
      "Epoch 38/50\n",
      "60000/60000 [==============================] - 366s 6ms/step - loss: 0.7495 - acc: 0.7346 - val_loss: 0.7300 - val_acc: 0.7460\n",
      "Epoch 39/50\n",
      "60000/60000 [==============================] - 367s 6ms/step - loss: 0.7411 - acc: 0.7390 - val_loss: 0.8196 - val_acc: 0.7032\n",
      "Epoch 40/50\n",
      "60000/60000 [==============================] - 364s 6ms/step - loss: 0.7264 - acc: 0.7445 - val_loss: 0.6683 - val_acc: 0.7592\n",
      "Epoch 41/50\n",
      "60000/60000 [==============================] - 362s 6ms/step - loss: 0.7366 - acc: 0.7401 - val_loss: 0.6774 - val_acc: 0.7670\n",
      "Epoch 42/50\n",
      "60000/60000 [==============================] - 367s 6ms/step - loss: 0.7145 - acc: 0.7489 - val_loss: 0.6718 - val_acc: 0.7606\n",
      "Epoch 43/50\n",
      "60000/60000 [==============================] - 369s 6ms/step - loss: 0.7249 - acc: 0.7434 - val_loss: 0.6570 - val_acc: 0.7671\n",
      "Epoch 44/50\n",
      "60000/60000 [==============================] - 366s 6ms/step - loss: 0.7156 - acc: 0.7472 - val_loss: 0.6881 - val_acc: 0.7587\n",
      "Epoch 45/50\n",
      "60000/60000 [==============================] - 366s 6ms/step - loss: 0.7130 - acc: 0.7472 - val_loss: 0.6565 - val_acc: 0.7703\n",
      "Epoch 46/50\n",
      "60000/60000 [==============================] - 366s 6ms/step - loss: 0.7041 - acc: 0.7517 - val_loss: 0.6208 - val_acc: 0.7811\n",
      "Epoch 47/50\n",
      "60000/60000 [==============================] - 366s 6ms/step - loss: 0.7244 - acc: 0.7440 - val_loss: 0.6690 - val_acc: 0.7585\n",
      "Epoch 48/50\n",
      "60000/60000 [==============================] - 366s 6ms/step - loss: 0.7004 - acc: 0.7526 - val_loss: 0.9901 - val_acc: 0.6389\n",
      "Epoch 49/50\n",
      "60000/60000 [==============================] - 366s 6ms/step - loss: 0.7023 - acc: 0.7501 - val_loss: 0.6575 - val_acc: 0.7711\n",
      "Epoch 50/50\n",
      "60000/60000 [==============================] - 365s 6ms/step - loss: 0.6977 - acc: 0.7521 - val_loss: 0.7171 - val_acc: 0.7428\n"
     ]
    }
   ],
   "source": [
    "#rmsprop = Adam(lr=learning_rate, amsgrad=True)\n",
    "\n",
    "model.compile(loss='categorical_crossentropy',\n",
    "              optimizer='adam',\n",
    "              metrics=['accuracy'])\n",
    "\n",
    "hist=model.fit(x_train, y_train,\n",
    "          batch_size=batch_size,\n",
    "          epochs=epochs,\n",
    "          verbose=1,\n",
    "          validation_data=(x_test, y_test),\n",
    "          callbacks=[ModelCheckpoint('weights/imdb_indrnn_mnist.h5', monitor='val_acc',\n",
    "                                     save_best_only=True, save_weights_only=True, mode='max')])\n",
    "#hist= model.fit(x_train, y_train.squeeze().argmax(axis=1), epochs=100,validation_data=(x_test, y_test.squeeze().argmax(axis=1)))\n",
    "\n",
    "model.load_weights('weights/imdb_indrnn_mnist.h5')\n",
    "\n"
   ]
  },
  {
   "cell_type": "code",
   "execution_count": null,
   "metadata": {},
   "outputs": [],
   "source": [
    "scores = model.evaluate(x_test, y_test, verbose=0)\n",
    "print('IndRNN test score:', scores[0])\n",
    "print('IndRNN test accuracy:', scores[1])"
   ]
  },
  {
   "cell_type": "code",
   "execution_count": 10,
   "metadata": {},
   "outputs": [
    {
     "data": {
      "image/png": "[encoded data removed]",
      "text/plain": [
       "<matplotlib.figure.Figure at 0x7f868c118dd8>"
      ]
     },
     "metadata": {
      "needs_background": "light"
     },
     "output_type": "display_data"
    }
   ],
   "source": [
    "import matplotlib.pyplot as plt\n",
    "# Plot training & validation accuracy values\n",
    "plt.plot(hist.history['acc'])\n",
    "plt.plot(hist.history['val_acc'])\n",
    "plt.title('Model accuracy')\n",
    "plt.ylabel('Accuracy')\n",
    "plt.xlabel('Epoch')\n",
    "plt.legend(['Train', 'Test'], loc='upper left')\n",
    "plt.show()\n"
   ]
  },
  {
   "cell_type": "code",
   "execution_count": 11,
   "metadata": {},
   "outputs": [
    {
     "data": {
      "image/png": "[encoded data removed]",
      "text/plain": [
       "<matplotlib.figure.Figure at 0x7f868c110550>"
      ]
     },
     "metadata": {
      "needs_background": "light"
     },
     "output_type": "display_data"
    }
   ],
   "source": [
    "# Plot training & validation loss values\n",
    "plt.plot(hist.history['loss'])\n",
    "plt.plot(hist.history['val_loss'])\n",
    "plt.title('Model loss')\n",
    "plt.ylabel('Loss')\n",
    "plt.xlabel('Epoch')\n",
    "plt.legend(['Train', 'Test'], loc='upper left')\n",
    "plt.show()"
   ]
  },
  {
   "cell_type": "code",
   "execution_count": null,
   "metadata": {},
   "outputs": [],
   "source": []
  }
 ],
 "metadata": {
  "kernelspec": {
   "display_name": "Python 3",
   "language": "python",
   "name": "python3"
  },
  "language_info": {
   "codemirror_mode": {
    "name": "ipython",
    "version": 3
   },
   "file_extension": ".py",
   "mimetype": "text/x-python",
   "name": "python",
   "nbconvert_exporter": "python",
   "pygments_lexer": "ipython3",
   "version": "3.6.8"
  }
 },
 "nbformat": 4,
 "nbformat_minor": 2
}
