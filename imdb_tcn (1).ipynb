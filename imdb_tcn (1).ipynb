{
 "cells": [
  {
   "cell_type": "code",
   "execution_count": 1,
   "metadata": {},
   "outputs": [],
   "source": [
    "\"\"\"\n",
    "#Trains a TCN on the IMDB sentiment classification task.\n",
    "Output after 1 epochs on CPU: ~0.8611\n",
    "Time per epoch on CPU (Core i7): ~64s.\n",
    "Based on: https://github.com/keras-team/keras/blob/master/examples/imdb_bidirectional_lstm.py\n",
    "\"\"\"\n",
    "import numpy as np\n",
    "from keras import Model, Input\n",
    "from keras.datasets import imdb\n",
    "from keras.layers import Dense, Dropout, Embedding\n",
    "from keras.preprocessing import sequence\n",
    "\n",
    "from tcn import TCN\n",
    "\n",
    "max_features = 20000\n",
    "# cut texts after this number of words\n",
    "# (among top max_features most common words)\n",
    "maxlen = 100\n",
    "batch_size = 32"
   ]
  },
  {
   "cell_type": "code",
   "execution_count": 2,
   "metadata": {},
   "outputs": [
    {
     "name": "stdout",
     "output_type": "stream",
     "text": [
      "Loading data...\n",
      "25000 train sequences\n",
      "25000 test sequences\n"
     ]
    }
   ],
   "source": [
    "import numpy as np\n",
    "#x_train = np.array(x_train).reshape(len(x_train), -1)\n",
    "np_load_old = np.load\n",
    "\n",
    "# modify the default parameters of np.load\n",
    "np.load = lambda *a,**k: np_load_old(*a, allow_pickle=True, **k)\n",
    "\n",
    "# call load_data with allow_pickle implicitly set to true\n",
    "#(train_data, train_labels), (test_data, test_labels) = imdb.load_data(num_words=10000)\n",
    "(x_train, y_train), (x_test, y_test) = imdb.load_data(num_words=max_features)\n",
    "\n",
    "# restore np.load for future normal usage\n",
    "np.load = np_load_old\n",
    "print('Loading data...')\n",
    "#(x_train, y_train), (x_test, y_test) = imdb.load_data(num_words=max_features)\n",
    "print(len(x_train), 'train sequences')\n",
    "print(len(x_test), 'test sequences')"
   ]
  },
  {
   "cell_type": "code",
   "execution_count": 3,
   "metadata": {},
   "outputs": [
    {
     "name": "stdout",
     "output_type": "stream",
     "text": [
      "Pad sequences (samples x time)\n",
      "x_train shape: (25000, 100)\n",
      "x_test shape: (25000, 100)\n"
     ]
    }
   ],
   "source": [
    "print('Pad sequences (samples x time)')\n",
    "x_train = sequence.pad_sequences(x_train, maxlen=maxlen)\n",
    "x_test = sequence.pad_sequences(x_test, maxlen=maxlen)\n",
    "print('x_train shape:', x_train.shape)\n",
    "print('x_test shape:', x_test.shape)"
   ]
  },
  {
   "cell_type": "code",
   "execution_count": 4,
   "metadata": {},
   "outputs": [
    {
     "name": "stderr",
     "output_type": "stream",
     "text": [
      "WARNING: Logging before flag parsing goes to stderr.\n",
      "W0121 00:14:24.358053 140029782796096 deprecation_wrapper.py:119] From /usr/local/lib/python3.6/dist-packages/keras/backend/tensorflow_backend.py:74: The name tf.get_default_graph is deprecated. Please use tf.compat.v1.get_default_graph instead.\n",
      "\n",
      "W0121 00:14:24.374295 140029782796096 deprecation_wrapper.py:119] From /usr/local/lib/python3.6/dist-packages/keras/backend/tensorflow_backend.py:517: The name tf.placeholder is deprecated. Please use tf.compat.v1.placeholder instead.\n",
      "\n",
      "W0121 00:14:24.377922 140029782796096 deprecation_wrapper.py:119] From /usr/local/lib/python3.6/dist-packages/keras/backend/tensorflow_backend.py:4138: The name tf.random_uniform is deprecated. Please use tf.random.uniform instead.\n",
      "\n",
      "W0121 00:14:24.393262 140029782796096 deprecation_wrapper.py:119] From /usr/local/lib/python3.6/dist-packages/keras/backend/tensorflow_backend.py:4185: The name tf.truncated_normal is deprecated. Please use tf.random.truncated_normal instead.\n",
      "\n",
      "W0121 00:14:24.933230 140029782796096 deprecation_wrapper.py:119] From /usr/local/lib/python3.6/dist-packages/keras/backend/tensorflow_backend.py:133: The name tf.placeholder_with_default is deprecated. Please use tf.compat.v1.placeholder_with_default instead.\n",
      "\n",
      "W0121 00:14:24.941414 140029782796096 deprecation.py:506] From /usr/local/lib/python3.6/dist-packages/keras/backend/tensorflow_backend.py:3445: calling dropout (from tensorflow.python.ops.nn_ops) with keep_prob is deprecated and will be removed in a future version.\n",
      "Instructions for updating:\n",
      "Please use `rate` instead of `keep_prob`. Rate should be set to `rate = 1 - keep_prob`.\n"
     ]
    }
   ],
   "source": [
    "y_train = np.array(y_train)\n",
    "y_test = np.array(y_test)\n",
    "\n",
    "i = Input(shape=(maxlen,))\n",
    "x = Embedding(max_features, 128)(i)\n",
    "x = TCN(nb_filters=64,\n",
    "        kernel_size=6,\n",
    "        dilations=[1, 2, 4, 8, 16, 32, 64])(x)\n",
    "x = Dropout(0.5)(x)\n",
    "x = Dense(1, activation='sigmoid')(x)\n",
    "\n",
    "model = Model(inputs=[i], outputs=[x])"
   ]
  },
  {
   "cell_type": "code",
   "execution_count": 5,
   "metadata": {},
   "outputs": [
    {
     "name": "stderr",
     "output_type": "stream",
     "text": [
      "W0121 00:14:31.025167 140029782796096 deprecation_wrapper.py:119] From /usr/local/lib/python3.6/dist-packages/keras/optimizers.py:790: The name tf.train.Optimizer is deprecated. Please use tf.compat.v1.train.Optimizer instead.\n",
      "\n",
      "W0121 00:14:31.064571 140029782796096 deprecation.py:323] From /usr/local/lib/python3.6/dist-packages/tensorflow/python/ops/nn_impl.py:180: add_dispatch_support.<locals>.wrapper (from tensorflow.python.ops.array_ops) is deprecated and will be removed in a future version.\n",
      "Instructions for updating:\n",
      "Use tf.where in 2.0, which has the same broadcast rule as np.where\n"
     ]
    },
    {
     "name": "stdout",
     "output_type": "stream",
     "text": [
      "Train...\n",
      "Train on 25000 samples, validate on 25000 samples\n",
      "Epoch 1/50\n",
      "25000/25000 [==============================] - 25s 1ms/step - loss: 0.4619 - acc: 0.7581 - val_loss: 0.3223 - val_acc: 0.8576\n",
      "Epoch 2/50\n",
      "25000/25000 [==============================] - 21s 848us/step - loss: 0.2288 - acc: 0.9115 - val_loss: 0.3706 - val_acc: 0.8511\n",
      "Epoch 3/50\n",
      "25000/25000 [==============================] - 21s 842us/step - loss: 0.0946 - acc: 0.9679 - val_loss: 0.5490 - val_acc: 0.8383\n",
      "Epoch 4/50\n",
      "25000/25000 [==============================] - 21s 835us/step - loss: 0.0498 - acc: 0.9832 - val_loss: 0.8259 - val_acc: 0.8140\n",
      "Epoch 5/50\n",
      "25000/25000 [==============================] - 21s 824us/step - loss: 0.0363 - acc: 0.9876 - val_loss: 0.9332 - val_acc: 0.8379\n",
      "Epoch 6/50\n",
      "25000/25000 [==============================] - 20s 806us/step - loss: 0.0281 - acc: 0.9902 - val_loss: 1.0288 - val_acc: 0.8359\n",
      "Epoch 7/50\n",
      "25000/25000 [==============================] - 21s 834us/step - loss: 0.0219 - acc: 0.9923 - val_loss: 1.0364 - val_acc: 0.8318\n",
      "Epoch 8/50\n",
      "25000/25000 [==============================] - 21s 825us/step - loss: 0.0241 - acc: 0.9917 - val_loss: 0.9538 - val_acc: 0.8331\n",
      "Epoch 9/50\n",
      "25000/25000 [==============================] - 21s 825us/step - loss: 0.0193 - acc: 0.9940 - val_loss: 1.2912 - val_acc: 0.8177\n",
      "Epoch 10/50\n",
      "25000/25000 [==============================] - 20s 812us/step - loss: 0.0149 - acc: 0.9954 - val_loss: 1.1636 - val_acc: 0.8249\n",
      "Epoch 11/50\n",
      "25000/25000 [==============================] - 21s 827us/step - loss: 0.0171 - acc: 0.9936 - val_loss: 1.5250 - val_acc: 0.8235\n",
      "Epoch 12/50\n",
      "25000/25000 [==============================] - 21s 829us/step - loss: 0.0123 - acc: 0.9962 - val_loss: 1.8980 - val_acc: 0.7910\n",
      "Epoch 13/50\n",
      "25000/25000 [==============================] - 21s 826us/step - loss: 0.0169 - acc: 0.9948 - val_loss: 1.4523 - val_acc: 0.8110\n",
      "Epoch 14/50\n",
      "25000/25000 [==============================] - 21s 821us/step - loss: 0.0137 - acc: 0.9957 - val_loss: 1.1307 - val_acc: 0.8278\n",
      "Epoch 15/50\n",
      "25000/25000 [==============================] - 21s 825us/step - loss: 0.0092 - acc: 0.9971 - val_loss: 1.1713 - val_acc: 0.8237\n",
      "Epoch 16/50\n",
      "25000/25000 [==============================] - 20s 815us/step - loss: 0.0113 - acc: 0.9963 - val_loss: 1.3872 - val_acc: 0.8261\n",
      "Epoch 17/50\n",
      "25000/25000 [==============================] - 21s 831us/step - loss: 0.0078 - acc: 0.9974 - val_loss: 1.5415 - val_acc: 0.8325\n",
      "Epoch 18/50\n",
      "25000/25000 [==============================] - 21s 830us/step - loss: 0.0078 - acc: 0.9977 - val_loss: 1.5393 - val_acc: 0.8257\n",
      "Epoch 19/50\n",
      "25000/25000 [==============================] - 21s 822us/step - loss: 0.0140 - acc: 0.9964 - val_loss: 1.4518 - val_acc: 0.8178\n",
      "Epoch 20/50\n",
      "25000/25000 [==============================] - 21s 826us/step - loss: 0.0069 - acc: 0.9979 - val_loss: 1.6249 - val_acc: 0.8094\n",
      "Epoch 21/50\n",
      "25000/25000 [==============================] - 21s 836us/step - loss: 0.0118 - acc: 0.9964 - val_loss: 1.3747 - val_acc: 0.8144\n",
      "Epoch 22/50\n",
      "25000/25000 [==============================] - 21s 823us/step - loss: 0.0102 - acc: 0.9968 - val_loss: 1.3416 - val_acc: 0.8273\n",
      "Epoch 23/50\n",
      "25000/25000 [==============================] - 21s 837us/step - loss: 0.0091 - acc: 0.9971 - val_loss: 1.4292 - val_acc: 0.8212\n",
      "Epoch 24/50\n",
      "25000/25000 [==============================] - 21s 825us/step - loss: 0.0090 - acc: 0.9979 - val_loss: 1.4146 - val_acc: 0.8196\n",
      "Epoch 25/50\n",
      "25000/25000 [==============================] - 21s 836us/step - loss: 0.0073 - acc: 0.9976 - val_loss: 1.3485 - val_acc: 0.8250\n",
      "Epoch 26/50\n",
      "25000/25000 [==============================] - 21s 829us/step - loss: 0.0059 - acc: 0.9984 - val_loss: 1.6893 - val_acc: 0.8235\n",
      "Epoch 27/50\n",
      "25000/25000 [==============================] - 21s 824us/step - loss: 0.0080 - acc: 0.9979 - val_loss: 1.6910 - val_acc: 0.8053\n",
      "Epoch 28/50\n",
      "25000/25000 [==============================] - 21s 831us/step - loss: 0.0125 - acc: 0.9966 - val_loss: 1.4744 - val_acc: 0.8114\n",
      "Epoch 29/50\n",
      "25000/25000 [==============================] - 21s 837us/step - loss: 0.0072 - acc: 0.9979 - val_loss: 1.4262 - val_acc: 0.8262\n",
      "Epoch 30/50\n",
      "25000/25000 [==============================] - 21s 827us/step - loss: 0.0060 - acc: 0.9985 - val_loss: 1.5350 - val_acc: 0.8245\n",
      "Epoch 31/50\n",
      "25000/25000 [==============================] - 21s 830us/step - loss: 0.0050 - acc: 0.9985 - val_loss: 2.0525 - val_acc: 0.8140\n",
      "Epoch 32/50\n",
      "25000/25000 [==============================] - 21s 834us/step - loss: 0.0081 - acc: 0.9977 - val_loss: 1.8743 - val_acc: 0.8192\n",
      "Epoch 33/50\n",
      "25000/25000 [==============================] - 21s 829us/step - loss: 0.0082 - acc: 0.9982 - val_loss: 1.8191 - val_acc: 0.8211\n",
      "Epoch 34/50\n",
      "25000/25000 [==============================] - 21s 824us/step - loss: 0.0103 - acc: 0.9976 - val_loss: 1.5591 - val_acc: 0.8212\n",
      "Epoch 35/50\n",
      "25000/25000 [==============================] - 21s 826us/step - loss: 0.0130 - acc: 0.9969 - val_loss: 1.5653 - val_acc: 0.8220\n",
      "Epoch 36/50\n",
      "25000/25000 [==============================] - 21s 832us/step - loss: 0.0076 - acc: 0.9978 - val_loss: 1.5988 - val_acc: 0.8175\n",
      "Epoch 37/50\n",
      "25000/25000 [==============================] - 21s 840us/step - loss: 0.0016 - acc: 0.9996 - val_loss: 1.6843 - val_acc: 0.8200\n",
      "Epoch 38/50\n",
      "25000/25000 [==============================] - 21s 828us/step - loss: 0.0014 - acc: 0.9996 - val_loss: 1.7991 - val_acc: 0.8250\n",
      "Epoch 39/50\n",
      "25000/25000 [==============================] - 20s 819us/step - loss: 0.0154 - acc: 0.9972 - val_loss: 2.2079 - val_acc: 0.8037\n",
      "Epoch 40/50\n",
      "25000/25000 [==============================] - 21s 836us/step - loss: 0.0096 - acc: 0.9976 - val_loss: 1.7827 - val_acc: 0.8220\n",
      "Epoch 41/50\n",
      "25000/25000 [==============================] - 21s 839us/step - loss: 0.0039 - acc: 0.9989 - val_loss: 1.8880 - val_acc: 0.8236\n",
      "Epoch 42/50\n",
      "25000/25000 [==============================] - 20s 817us/step - loss: 0.0125 - acc: 0.9972 - val_loss: 2.2946 - val_acc: 0.7967\n",
      "Epoch 43/50\n",
      "25000/25000 [==============================] - 21s 825us/step - loss: 0.0112 - acc: 0.9976 - val_loss: 1.7151 - val_acc: 0.8136\n",
      "Epoch 44/50\n",
      "25000/25000 [==============================] - 21s 833us/step - loss: 0.0079 - acc: 0.9983 - val_loss: 1.8541 - val_acc: 0.8112\n",
      "Epoch 45/50\n",
      "25000/25000 [==============================] - 21s 824us/step - loss: 0.0052 - acc: 0.9982 - val_loss: 1.9666 - val_acc: 0.8174\n",
      "Epoch 46/50\n",
      "25000/25000 [==============================] - 20s 817us/step - loss: 0.0158 - acc: 0.9972 - val_loss: 1.8775 - val_acc: 0.8121\n",
      "Epoch 47/50\n",
      "25000/25000 [==============================] - 21s 827us/step - loss: 0.0048 - acc: 0.9990 - val_loss: 2.0782 - val_acc: 0.8228\n",
      "Epoch 48/50\n",
      "25000/25000 [==============================] - 21s 832us/step - loss: 1.8157e-05 - acc: 1.0000 - val_loss: 2.1253 - val_acc: 0.8242\n",
      "Epoch 49/50\n",
      "25000/25000 [==============================] - 21s 834us/step - loss: 3.1883e-05 - acc: 1.0000 - val_loss: 2.3085 - val_acc: 0.8218\n",
      "Epoch 50/50\n",
      "25000/25000 [==============================] - 21s 823us/step - loss: 0.0331 - acc: 0.9954 - val_loss: 2.1209 - val_acc: 0.8142\n"
     ]
    }
   ],
   "source": [
    "# try using different optimizers and different optimizer configs\n",
    "model.compile('adam', 'binary_crossentropy', metrics=['accuracy'])\n",
    "\n",
    "print('Train...')\n",
    "hist=model.fit(x_train, y_train,\n",
    "          batch_size=batch_size,\n",
    "          epochs=50,\n",
    "          validation_data=[x_test, y_test])"
   ]
  },
  {
   "cell_type": "code",
   "execution_count": 7,
   "metadata": {},
   "outputs": [
    {
     "data": {
      "image/png": "[encoded data removed]",
      "text/plain": [
       "<matplotlib.figure.Figure at 0x7f5a5421fef0>"
      ]
     },
     "metadata": {
      "needs_background": "light"
     },
     "output_type": "display_data"
    }
   ],
   "source": [
    "import matplotlib.pyplot as plt\n",
    "# Plot training & validation accuracy values\n",
    "plt.plot(hist.history['acc'])\n",
    "plt.plot(hist.history['val_acc'])\n",
    "plt.title('Model accuracy')\n",
    "plt.ylabel('Accuracy')\n",
    "plt.xlabel('Epoch')\n",
    "plt.legend(['Train', 'Test'], loc='upper left')\n",
    "plt.show()"
   ]
  },
  {
   "cell_type": "code",
   "execution_count": 8,
   "metadata": {},
   "outputs": [
    {
     "data": {
      "image/png": "[encoded data removed]",
      "text/plain": [
       "<matplotlib.figure.Figure at 0x7f5a54089908>"
      ]
     },
     "metadata": {
      "needs_background": "light"
     },
     "output_type": "display_data"
    }
   ],
   "source": [
    "# Plot training & validation loss values\n",
    "plt.plot(hist.history['loss'])\n",
    "plt.plot(hist.history['val_loss'])\n",
    "plt.title('Model loss')\n",
    "plt.ylabel('Loss')\n",
    "plt.xlabel('Epoch')\n",
    "plt.legend(['Train', 'Test'], loc='upper left')\n",
    "plt.show()\n"
   ]
  },
  {
   "cell_type": "code",
   "execution_count": 9,
   "metadata": {},
   "outputs": [
    {
     "name": "stdout",
     "output_type": "stream",
     "text": [
      "Accuracy: 81.42%\n"
     ]
    }
   ],
   "source": [
    "scores = model.evaluate(x_test, y_test, verbose=0)\n",
    "print(\"Accuracy: %.2f%%\" % (scores[1] * 100))"
   ]
  },
  {
   "cell_type": "code",
   "execution_count": null,
   "metadata": {},
   "outputs": [],
   "source": []
  }
 ],
 "metadata": {
  "kernelspec": {
   "display_name": "Python 3",
   "language": "python",
   "name": "python3"
  },
  "language_info": {
   "codemirror_mode": {
    "name": "ipython",
    "version": 3
   },
   "file_extension": ".py",
   "mimetype": "text/x-python",
   "name": "python",
   "nbconvert_exporter": "python",
   "pygments_lexer": "ipython3",
   "version": "3.6.8"
  }
 },
 "nbformat": 4,
 "nbformat_minor": 2
}
