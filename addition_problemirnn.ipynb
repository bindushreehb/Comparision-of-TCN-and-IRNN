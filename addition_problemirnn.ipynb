{
 "cells": [
  {
   "cell_type": "code",
   "execution_count": 1,
   "metadata": {},
   "outputs": [
    {
     "name": "stderr",
     "output_type": "stream",
     "text": [
      "WARNING: Logging before flag parsing goes to stderr.\n",
      "W0118 00:57:59.609459 139852421502784 deprecation_wrapper.py:119] From /usr/local/lib/python3.6/dist-packages/keras/backend/tensorflow_backend.py:74: The name tf.get_default_graph is deprecated. Please use tf.compat.v1.get_default_graph instead.\n",
      "\n"
     ]
    }
   ],
   "source": [
    "from __future__ import print_function\n",
    "import numpy as np\n",
    "import os\n",
    "\n",
    "from keras.models import Sequential\n",
    "from keras.layers import Dense\n",
    "from keras.optimizers import Adam\n",
    "from keras import initializers\n",
    "from keras.callbacks import ModelCheckpoint\n",
    "\n",
    "from ind_rnn import IndRNNCell, RNN\n",
    "\n",
    "if not os.path.exists('weights'):\n",
    "    os.makedirs('weights/')\n",
    "\n",
    "# Parameters taken from https://arxiv.org/abs/1803.04831 ; (above)\n",
    "TIME_STEPS = 100\n",
    "NUM_UNITS = 128\n",
    "LEARNING_RATE = 0.0002\n",
    "STEPS_PER_EPOCH = 100\n",
    "NUM_EPOCHS = 100\n",
    "\n",
    "# Parameters taken from https://arxiv.org/abs/1511.06464\n",
    "BATCH_SIZE = 50\n",
    "\n",
    "# Code reused from https://github.com/batzner/indrnn/blob/master/examples/addition_rnn.py\n",
    "def batch_generator():\n",
    "    while True:\n",
    "        \"\"\"Generate the adding problem dataset\"\"\"\n",
    "        # Build the first sequence\n",
    "        add_values = np.random.rand(BATCH_SIZE, TIME_STEPS)\n",
    "\n",
    "        # Build the second sequence with one 1 in each half and 0s otherwise\n",
    "        add_indices = np.zeros_like(add_values)\n",
    "        half = int(TIME_STEPS / 2)\n",
    "        for i in range(BATCH_SIZE):\n",
    "            first_half = np.random.randint(half)\n",
    "            second_half = np.random.randint(half, TIME_STEPS)\n",
    "            add_indices[i, [first_half, second_half]] = 1\n",
    "\n",
    "        # Zip the values and indices in a third dimension:\n",
    "        # inputs has the shape (batch_size, time_steps, 2)\n",
    "        inputs = np.dstack((add_values, add_indices))\n",
    "        targets = np.sum(np.multiply(add_values, add_indices), axis=1)\n",
    "\n",
    "        # center at zero mean\n",
    "        inputs -= np.mean(inputs, axis=0, keepdims=True)\n",
    "\n",
    "        yield inputs, targets\n",
    "\n",
    "cells = [IndRNNCell(NUM_UNITS),\n",
    "         IndRNNCell(NUM_UNITS)]"
   ]
  },
  {
   "cell_type": "code",
   "execution_count": 2,
   "metadata": {},
   "outputs": [
    {
     "name": "stderr",
     "output_type": "stream",
     "text": [
      "W0118 00:58:03.351092 139852421502784 deprecation_wrapper.py:119] From /usr/local/lib/python3.6/dist-packages/keras/backend/tensorflow_backend.py:517: The name tf.placeholder is deprecated. Please use tf.compat.v1.placeholder instead.\n",
      "\n",
      "/home/jupyter/workspace/Project/Keras_Irnn/adding_Irnn/ind_rnn.py:143: UserWarning: IndRNNCell: Number of timesteps could not be determined. \n",
      "Defaulting to max clipping range of 1.0. \n",
      "If this model was trained using a specific timestep during training, inference may be wrong due to this default setting.\n",
      "Please ensure that you use the same number of timesteps during training and evaluation\n",
      "  warnings.warn(\"IndRNNCell: Number of timesteps could not be determined. \\n\"\n",
      "W0118 00:58:03.357721 139852421502784 deprecation_wrapper.py:119] From /usr/local/lib/python3.6/dist-packages/keras/backend/tensorflow_backend.py:4138: The name tf.random_uniform is deprecated. Please use tf.random.uniform instead.\n",
      "\n"
     ]
    },
    {
     "name": "stdout",
     "output_type": "stream",
     "text": [
      "Build model...\n"
     ]
    }
   ],
   "source": [
    "print('Build model...')\n",
    "model = Sequential()\n",
    "model.add(RNN(cells, input_shape=(TIME_STEPS, 2)))\n",
    "model.add(Dense(1, activation='linear', bias_initializer=initializers.constant(0.1)))"
   ]
  },
  {
   "cell_type": "code",
   "execution_count": 3,
   "metadata": {},
   "outputs": [
    {
     "name": "stderr",
     "output_type": "stream",
     "text": [
      "W0118 00:58:18.187904 139852421502784 deprecation_wrapper.py:119] From /usr/local/lib/python3.6/dist-packages/keras/optimizers.py:790: The name tf.train.Optimizer is deprecated. Please use tf.compat.v1.train.Optimizer instead.\n",
      "\n"
     ]
    }
   ],
   "source": [
    "# try using different optimizers and different optimizer configs\n",
    "optimizer = Adam(LEARNING_RATE, amsgrad=True)\n",
    "model.compile(loss='mse', optimizer='adam')"
   ]
  },
  {
   "cell_type": "code",
   "execution_count": 4,
   "metadata": {},
   "outputs": [
    {
     "name": "stderr",
     "output_type": "stream",
     "text": [
      "W0118 00:58:45.109819 139852421502784 deprecation.py:323] From /usr/local/lib/python3.6/dist-packages/tensorflow/python/ops/math_grad.py:1250: add_dispatch_support.<locals>.wrapper (from tensorflow.python.ops.array_ops) is deprecated and will be removed in a future version.\n",
      "Instructions for updating:\n",
      "Use tf.where in 2.0, which has the same broadcast rule as np.where\n",
      "W0118 00:58:45.189840 139852421502784 deprecation_wrapper.py:119] From /usr/local/lib/python3.6/dist-packages/keras/backend/tensorflow_backend.py:986: The name tf.assign_add is deprecated. Please use tf.compat.v1.assign_add instead.\n",
      "\n",
      "W0118 00:58:45.278464 139852421502784 deprecation_wrapper.py:119] From /usr/local/lib/python3.6/dist-packages/keras/backend/tensorflow_backend.py:973: The name tf.assign is deprecated. Please use tf.compat.v1.assign instead.\n",
      "\n"
     ]
    },
    {
     "name": "stdout",
     "output_type": "stream",
     "text": [
      "Epoch 1/100\n",
      "100/100 [==============================] - 9s 87ms/step - loss: 0.2349\n",
      "Epoch 2/100\n",
      "100/100 [==============================] - 8s 76ms/step - loss: 0.1629\n",
      "Epoch 3/100\n",
      "100/100 [==============================] - 8s 76ms/step - loss: 0.1631\n",
      "Epoch 4/100\n",
      "100/100 [==============================] - 8s 76ms/step - loss: 0.1551\n",
      "Epoch 5/100\n",
      "100/100 [==============================] - 8s 77ms/step - loss: 0.1495\n",
      "Epoch 6/100\n",
      "100/100 [==============================] - 8s 77ms/step - loss: 0.1396\n",
      "Epoch 7/100\n",
      "100/100 [==============================] - 8s 76ms/step - loss: 0.1256\n",
      "Epoch 8/100\n",
      "100/100 [==============================] - 8s 76ms/step - loss: 0.1057\n",
      "Epoch 9/100\n",
      "100/100 [==============================] - 8s 76ms/step - loss: 0.0833\n",
      "Epoch 10/100\n",
      "100/100 [==============================] - 8s 77ms/step - loss: 0.0526\n",
      "Epoch 11/100\n",
      "100/100 [==============================] - 7s 75ms/step - loss: 0.0354\n",
      "Epoch 12/100\n",
      "100/100 [==============================] - 8s 77ms/step - loss: 0.0286\n",
      "Epoch 13/100\n",
      "100/100 [==============================] - 8s 75ms/step - loss: 0.0167\n",
      "Epoch 14/100\n",
      "100/100 [==============================] - 8s 77ms/step - loss: 0.0152\n",
      "Epoch 15/100\n",
      "100/100 [==============================] - 8s 76ms/step - loss: 0.0117\n",
      "Epoch 16/100\n",
      "100/100 [==============================] - 8s 76ms/step - loss: 0.0093\n",
      "Epoch 17/100\n",
      "100/100 [==============================] - 8s 75ms/step - loss: 0.0086\n",
      "Epoch 18/100\n",
      "100/100 [==============================] - 8s 76ms/step - loss: 0.0076\n",
      "Epoch 19/100\n",
      "100/100 [==============================] - 7s 74ms/step - loss: 0.0069\n",
      "Epoch 20/100\n",
      "100/100 [==============================] - 8s 76ms/step - loss: 0.0070\n",
      "Epoch 21/100\n",
      "100/100 [==============================] - 8s 76ms/step - loss: 0.0069\n",
      "Epoch 22/100\n",
      "100/100 [==============================] - 8s 76ms/step - loss: 0.0059\n",
      "Epoch 23/100\n",
      "100/100 [==============================] - 8s 77ms/step - loss: 0.0051\n",
      "Epoch 24/100\n",
      "100/100 [==============================] - 8s 77ms/step - loss: 0.0049\n",
      "Epoch 25/100\n",
      "100/100 [==============================] - 8s 76ms/step - loss: 0.0060\n",
      "Epoch 26/100\n",
      "100/100 [==============================] - 7s 72ms/step - loss: 0.0054\n",
      "Epoch 27/100\n",
      "100/100 [==============================] - 7s 69ms/step - loss: 0.0060\n",
      "Epoch 28/100\n",
      "100/100 [==============================] - 7s 72ms/step - loss: 0.0053\n",
      "Epoch 29/100\n",
      "100/100 [==============================] - 8s 77ms/step - loss: 0.0054\n",
      "Epoch 30/100\n",
      "100/100 [==============================] - 8s 76ms/step - loss: 0.0052\n",
      "Epoch 31/100\n",
      "100/100 [==============================] - 8s 76ms/step - loss: 0.0056\n",
      "Epoch 32/100\n",
      "100/100 [==============================] - 8s 76ms/step - loss: 0.0049\n",
      "Epoch 33/100\n",
      "100/100 [==============================] - 8s 76ms/step - loss: 0.0049\n",
      "Epoch 34/100\n",
      "100/100 [==============================] - 8s 76ms/step - loss: 0.0044\n",
      "Epoch 35/100\n",
      "100/100 [==============================] - 8s 76ms/step - loss: 0.0045\n",
      "Epoch 36/100\n",
      "100/100 [==============================] - 8s 76ms/step - loss: 0.0056\n",
      "Epoch 37/100\n",
      "100/100 [==============================] - 8s 76ms/step - loss: 0.0053\n",
      "Epoch 38/100\n",
      "100/100 [==============================] - 8s 76ms/step - loss: 0.0045\n",
      "Epoch 39/100\n",
      "100/100 [==============================] - 8s 76ms/step - loss: 0.0048\n",
      "Epoch 40/100\n",
      "100/100 [==============================] - 7s 74ms/step - loss: 0.0050\n",
      "Epoch 41/100\n",
      "100/100 [==============================] - 8s 76ms/step - loss: 0.0042\n",
      "Epoch 42/100\n",
      "100/100 [==============================] - 8s 77ms/step - loss: 0.0050\n",
      "Epoch 43/100\n",
      "100/100 [==============================] - 7s 75ms/step - loss: 0.0051\n",
      "Epoch 44/100\n",
      "100/100 [==============================] - 8s 76ms/step - loss: 0.0044\n",
      "Epoch 45/100\n",
      "100/100 [==============================] - 8s 75ms/step - loss: 0.0045\n",
      "Epoch 46/100\n",
      "100/100 [==============================] - 8s 76ms/step - loss: 0.0048\n",
      "Epoch 47/100\n",
      "100/100 [==============================] - 7s 75ms/step - loss: 0.0040\n",
      "Epoch 48/100\n",
      "100/100 [==============================] - 8s 77ms/step - loss: 0.0046\n",
      "Epoch 49/100\n",
      "100/100 [==============================] - 7s 75ms/step - loss: 0.0042\n",
      "Epoch 50/100\n",
      "100/100 [==============================] - 8s 76ms/step - loss: 0.0042\n",
      "Epoch 51/100\n",
      "100/100 [==============================] - 8s 76ms/step - loss: 0.0052\n",
      "Epoch 52/100\n",
      "100/100 [==============================] - 8s 77ms/step - loss: 0.0041\n",
      "Epoch 53/100\n",
      "100/100 [==============================] - 8s 76ms/step - loss: 0.0040\n",
      "Epoch 54/100\n",
      "100/100 [==============================] - 8s 76ms/step - loss: 0.0043\n",
      "Epoch 55/100\n",
      "100/100 [==============================] - 8s 75ms/step - loss: 0.0043\n",
      "Epoch 56/100\n",
      "100/100 [==============================] - 8s 77ms/step - loss: 0.0049\n",
      "Epoch 57/100\n",
      "100/100 [==============================] - 8s 76ms/step - loss: 0.0044\n",
      "Epoch 58/100\n",
      "100/100 [==============================] - 8s 75ms/step - loss: 0.0041\n",
      "Epoch 59/100\n",
      "100/100 [==============================] - 8s 76ms/step - loss: 0.0043\n",
      "Epoch 60/100\n",
      "100/100 [==============================] - 8s 75ms/step - loss: 0.0041\n",
      "Epoch 61/100\n",
      "100/100 [==============================] - 8s 76ms/step - loss: 0.0044\n",
      "Epoch 62/100\n",
      "100/100 [==============================] - 7s 75ms/step - loss: 0.0039\n",
      "Epoch 63/100\n",
      "100/100 [==============================] - 8s 77ms/step - loss: 0.0049\n",
      "Epoch 64/100\n",
      "100/100 [==============================] - 8s 76ms/step - loss: 0.0040\n",
      "Epoch 65/100\n",
      "100/100 [==============================] - 8s 76ms/step - loss: 0.0040\n",
      "Epoch 66/100\n",
      "100/100 [==============================] - 8s 76ms/step - loss: 0.0043\n",
      "Epoch 67/100\n",
      "100/100 [==============================] - 8s 77ms/step - loss: 0.0040\n",
      "Epoch 68/100\n",
      "100/100 [==============================] - 8s 77ms/step - loss: 0.0041\n",
      "Epoch 69/100\n",
      "100/100 [==============================] - 8s 76ms/step - loss: 0.0048\n",
      "Epoch 70/100\n",
      "100/100 [==============================] - 8s 75ms/step - loss: 0.0040\n",
      "Epoch 71/100\n",
      "100/100 [==============================] - 8s 75ms/step - loss: 0.0039\n",
      "Epoch 72/100\n",
      "100/100 [==============================] - 8s 76ms/step - loss: 0.0040\n",
      "Epoch 73/100\n",
      "100/100 [==============================] - 8s 76ms/step - loss: 0.0038\n",
      "Epoch 74/100\n",
      "100/100 [==============================] - 8s 76ms/step - loss: 0.0042\n",
      "Epoch 75/100\n",
      "100/100 [==============================] - 8s 77ms/step - loss: 0.0043\n",
      "Epoch 76/100\n",
      "100/100 [==============================] - 8s 76ms/step - loss: 0.0042\n",
      "Epoch 77/100\n",
      "100/100 [==============================] - 8s 77ms/step - loss: 0.0041\n",
      "Epoch 78/100\n",
      "100/100 [==============================] - 8s 76ms/step - loss: 0.0040\n",
      "Epoch 79/100\n",
      "100/100 [==============================] - 8s 77ms/step - loss: 0.0041\n",
      "Epoch 80/100\n",
      "100/100 [==============================] - 8s 75ms/step - loss: 0.0040\n",
      "Epoch 81/100\n",
      "100/100 [==============================] - 8s 76ms/step - loss: 0.0038\n",
      "Epoch 82/100\n",
      "100/100 [==============================] - 8s 75ms/step - loss: 0.0038\n",
      "Epoch 83/100\n",
      "100/100 [==============================] - 8s 76ms/step - loss: 0.0035\n",
      "Epoch 84/100\n",
      "100/100 [==============================] - 8s 77ms/step - loss: 0.0042\n",
      "Epoch 85/100\n",
      "100/100 [==============================] - 7s 74ms/step - loss: 0.0037\n",
      "Epoch 86/100\n",
      "100/100 [==============================] - 8s 77ms/step - loss: 0.0037\n",
      "Epoch 87/100\n",
      "100/100 [==============================] - 8s 77ms/step - loss: 0.0039\n",
      "Epoch 88/100\n",
      "100/100 [==============================] - 8s 76ms/step - loss: 0.0043\n",
      "Epoch 89/100\n",
      "100/100 [==============================] - 8s 77ms/step - loss: 0.0037\n",
      "Epoch 90/100\n",
      "100/100 [==============================] - 8s 76ms/step - loss: 0.0036\n",
      "Epoch 91/100\n",
      "100/100 [==============================] - 8s 76ms/step - loss: 0.0040\n",
      "Epoch 92/100\n",
      "100/100 [==============================] - 8s 76ms/step - loss: 0.0036\n",
      "Epoch 93/100\n",
      "100/100 [==============================] - 8s 78ms/step - loss: 0.0039\n",
      "Epoch 94/100\n",
      "100/100 [==============================] - 8s 75ms/step - loss: 0.0041\n",
      "Epoch 95/100\n",
      "100/100 [==============================] - 8s 75ms/step - loss: 0.0041\n",
      "Epoch 96/100\n",
      "100/100 [==============================] - 8s 77ms/step - loss: 0.0040\n",
      "Epoch 97/100\n",
      "100/100 [==============================] - 8s 76ms/step - loss: 0.0039\n",
      "Epoch 98/100\n",
      "100/100 [==============================] - 7s 73ms/step - loss: 0.0039\n",
      "Epoch 99/100\n",
      "100/100 [==============================] - 8s 76ms/step - loss: 0.0037\n",
      "Epoch 100/100\n",
      "100/100 [==============================] - 8s 75ms/step - loss: 0.0036\n"
     ]
    }
   ],
   "source": [
    "history = model.fit_generator(batch_generator(), steps_per_epoch=STEPS_PER_EPOCH,epochs=NUM_EPOCHS, verbose=1,callbacks=[ModelCheckpoint('weights/imdb_indrnn_addition.h5', monitor='loss',\n",
    "                                               save_best_only=True, save_weights_only=True, mode='min')])\n",
    "    \n",
    "\n",
    "\n",
    "#history = model.fit(inputs, targets, validation_split=0.0002, epochs=50, batch_size=16, verbose=1)\n",
    "\n",
    "                    "
   ]
  },
  {
   "cell_type": "code",
   "execution_count": 6,
   "metadata": {},
   "outputs": [
    {
     "ename": "KeyError",
     "evalue": "'val_loss'",
     "output_type": "error",
     "traceback": [
      "\u001b[0;31m---------------------------------------------------------------------------\u001b[0m",
      "\u001b[0;31mKeyError\u001b[0m                                  Traceback (most recent call last)",
      "\u001b[0;32m<ipython-input-6-7f962b0bc88b>\u001b[0m in \u001b[0;36m<module>\u001b[0;34m\u001b[0m\n\u001b[1;32m      5\u001b[0m \u001b[0msns\u001b[0m\u001b[0;34m.\u001b[0m\u001b[0mset\u001b[0m\u001b[0;34m(\u001b[0m\u001b[0;34m)\u001b[0m\u001b[0;34m\u001b[0m\u001b[0;34m\u001b[0m\u001b[0m\n\u001b[1;32m      6\u001b[0m \u001b[0mloss\u001b[0m \u001b[0;34m=\u001b[0m \u001b[0mhistory\u001b[0m\u001b[0;34m.\u001b[0m\u001b[0mhistory\u001b[0m\u001b[0;34m[\u001b[0m\u001b[0;34m'loss'\u001b[0m\u001b[0;34m]\u001b[0m\u001b[0;34m\u001b[0m\u001b[0;34m\u001b[0m\u001b[0m\n\u001b[0;32m----> 7\u001b[0;31m \u001b[0mval_loss\u001b[0m \u001b[0;34m=\u001b[0m \u001b[0mhistory\u001b[0m\u001b[0;34m.\u001b[0m\u001b[0mhistory\u001b[0m\u001b[0;34m[\u001b[0m\u001b[0;34m'val_loss'\u001b[0m\u001b[0;34m]\u001b[0m\u001b[0;34m\u001b[0m\u001b[0;34m\u001b[0m\u001b[0m\n\u001b[0m\u001b[1;32m      8\u001b[0m \u001b[0mepochs\u001b[0m \u001b[0;34m=\u001b[0m \u001b[0mrange\u001b[0m\u001b[0;34m(\u001b[0m\u001b[0;36m1\u001b[0m\u001b[0;34m,\u001b[0m \u001b[0mlen\u001b[0m\u001b[0;34m(\u001b[0m\u001b[0mloss\u001b[0m\u001b[0;34m)\u001b[0m \u001b[0;34m+\u001b[0m \u001b[0;36m1\u001b[0m\u001b[0;34m)\u001b[0m\u001b[0;34m\u001b[0m\u001b[0;34m\u001b[0m\u001b[0m\n\u001b[1;32m      9\u001b[0m \u001b[0;34m\u001b[0m\u001b[0m\n",
      "\u001b[0;31mKeyError\u001b[0m: 'val_loss'"
     ]
    }
   ],
   "source": [
    "import seaborn as sns\n",
    "import matplotlib.pyplot as plt\n",
    "%matplotlib inline\n",
    "\n",
    "sns.set()\n",
    "loss = history.history['loss']\n",
    "val_loss = history.history['val_loss']\n",
    "epochs = range(1, len(loss) + 1)\n",
    "\n",
    "plt.plot(epochs, loss, '-', label='Training loss')\n",
    "plt.plot(epochs, val_loss, ':', label='Validation loss')\n",
    "plt.title('Training and Validation losses')\n",
    "plt.xlabel('Epoch')\n",
    "plt.ylabel('loss')\n",
    "plt.legend(loc='best')\n",
    "plt.plot()"
   ]
  },
  {
   "cell_type": "code",
   "execution_count": null,
   "metadata": {},
   "outputs": [],
   "source": []
  },
  {
   "cell_type": "code",
   "execution_count": 7,
   "metadata": {},
   "outputs": [
    {
     "data": {
      "image/png": "[encoded data removed]",
      "text/plain": [
       "<matplotlib.figure.Figure at 0x7f31e0b26898>"
      ]
     },
     "metadata": {},
     "output_type": "display_data"
    }
   ],
   "source": [
    "import matplotlib.pyplot as plt\n",
    "plt.plot(history.history['loss'])\n",
    "#plt.plot(history.history['val_loss'])\n",
    "plt.title('Training step T=100')\n",
    "plt.ylabel('MSE')\n",
    "plt.xlabel('Epochs')\n",
    "#plt.legend(['Train', 'Test'], loc='upper left')\n",
    "plt.show()"
   ]
  },
  {
   "cell_type": "code",
   "execution_count": 6,
   "metadata": {},
   "outputs": [
    {
     "name": "stdout",
     "output_type": "stream",
     "text": [
      "_________________________________________________________________\n",
      "Layer (type)                 Output Shape              Param #   \n",
      "=================================================================\n",
      "rnn_1 (RNN)                  (None, 128)               17152     \n",
      "_________________________________________________________________\n",
      "dense_1 (Dense)              (None, 1)                 129       \n",
      "=================================================================\n",
      "Total params: 17,281\n",
      "Trainable params: 17,281\n",
      "Non-trainable params: 0\n",
      "_________________________________________________________________\n"
     ]
    }
   ],
   "source": [
    "model.summary()"
   ]
  },
  {
   "cell_type": "code",
   "execution_count": 2,
   "metadata": {},
   "outputs": [
    {
     "ename": "NameError",
     "evalue": "name 'history' is not defined",
     "output_type": "error",
     "traceback": [
      "\u001b[0;31m---------------------------------------------------------------------------\u001b[0m",
      "\u001b[0;31mNameError\u001b[0m                                 Traceback (most recent call last)",
      "\u001b[0;32m<ipython-input-2-045319400e3a>\u001b[0m in \u001b[0;36m<module>\u001b[0;34m\u001b[0m\n\u001b[1;32m      4\u001b[0m \u001b[0;34m\u001b[0m\u001b[0m\n\u001b[1;32m      5\u001b[0m \u001b[0msns\u001b[0m\u001b[0;34m.\u001b[0m\u001b[0mset\u001b[0m\u001b[0;34m(\u001b[0m\u001b[0;34m)\u001b[0m\u001b[0;34m\u001b[0m\u001b[0;34m\u001b[0m\u001b[0m\n\u001b[0;32m----> 6\u001b[0;31m \u001b[0mloss\u001b[0m \u001b[0;34m=\u001b[0m \u001b[0mhistory\u001b[0m\u001b[0;34m.\u001b[0m\u001b[0mhistory\u001b[0m\u001b[0;34m[\u001b[0m\u001b[0;34m'loss'\u001b[0m\u001b[0;34m]\u001b[0m\u001b[0;34m\u001b[0m\u001b[0;34m\u001b[0m\u001b[0m\n\u001b[0m\u001b[1;32m      7\u001b[0m \u001b[0mval_loss\u001b[0m \u001b[0;34m=\u001b[0m \u001b[0mhist\u001b[0m\u001b[0;34m.\u001b[0m\u001b[0mhistory\u001b[0m\u001b[0;34m[\u001b[0m\u001b[0;34m'val_loss'\u001b[0m\u001b[0;34m]\u001b[0m\u001b[0;34m\u001b[0m\u001b[0;34m\u001b[0m\u001b[0m\n\u001b[1;32m      8\u001b[0m \u001b[0mepochs\u001b[0m \u001b[0;34m=\u001b[0m \u001b[0mrange\u001b[0m\u001b[0;34m(\u001b[0m\u001b[0;36m1\u001b[0m\u001b[0;34m,\u001b[0m \u001b[0mlen\u001b[0m\u001b[0;34m(\u001b[0m\u001b[0mloss\u001b[0m\u001b[0;34m)\u001b[0m \u001b[0;34m+\u001b[0m \u001b[0;36m1\u001b[0m\u001b[0;34m)\u001b[0m\u001b[0;34m\u001b[0m\u001b[0;34m\u001b[0m\u001b[0m\n",
      "\u001b[0;31mNameError\u001b[0m: name 'history' is not defined"
     ]
    }
   ],
   "source": [
    "import seaborn as sns\n",
    "import matplotlib.pyplot as plt\n",
    "%matplotlib inline\n",
    "\n",
    "sns.set()\n",
    "loss = history.history['loss']\n",
    "val_loss = hist.history['val_loss']\n",
    "epochs = range(1, len(loss) + 1)\n",
    "\n",
    "plt.plot(epochs, loss, '-', label='Training loss')\n",
    "plt.plot(epochs, val_loss, ':', label='Validation loss')\n",
    "plt.title('Training and Validation losses')\n",
    "plt.xlabel('Epoch')\n",
    "plt.ylabel('loss')\n",
    "plt.legend(loc='best')\n",
    "plt.plot()"
   ]
  },
  {
   "cell_type": "code",
   "execution_count": null,
   "metadata": {},
   "outputs": [],
   "source": []
  }
 ],
 "metadata": {
  "kernelspec": {
   "display_name": "Python 3",
   "language": "python",
   "name": "python3"
  },
  "language_info": {
   "codemirror_mode": {
    "name": "ipython",
    "version": 3
   },
   "file_extension": ".py",
   "mimetype": "text/x-python",
   "name": "python",
   "nbconvert_exporter": "python",
   "pygments_lexer": "ipython3",
   "version": "3.6.8"
  }
 },
 "nbformat": 4,
 "nbformat_minor": 2
}
